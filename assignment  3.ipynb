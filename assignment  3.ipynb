{
 "cells": [
  {
   "cell_type": "markdown",
   "id": "acd7de00-bb0e-4838-9fb2-7a2cf5e6b220",
   "metadata": {},
   "source": [
    "Q1. Which keyword is used to create a function? Create a function to return a list of odd numbers in the\n",
    "range of 1 to 25."
   ]
  },
  {
   "cell_type": "markdown",
   "id": "dfebcccc-b7d7-432c-b5fd-a6e8a769fa55",
   "metadata": {},
   "source": [
    "Python def keyword is used to define a function, it is placed before a function name that is provided by the user to create a user-defined function"
   ]
  },
  {
   "cell_type": "code",
   "execution_count": 2,
   "id": "b49b61f6-68b4-42c8-ac73-3d7d6e82f306",
   "metadata": {},
   "outputs": [
    {
     "name": "stdout",
     "output_type": "stream",
     "text": [
      "1\n",
      "3\n",
      "5\n",
      "7\n",
      "9\n",
      "11\n",
      "13\n",
      "15\n",
      "17\n",
      "19\n",
      "21\n",
      "23\n"
     ]
    }
   ],
   "source": [
    "#def is used for creating function.\n",
    "def odd_num ():\n",
    "    for i in range (25):\n",
    "        if i%2 != 0:\n",
    "            print (i)\n",
    "            i = i+1\n",
    "            \n",
    "        \n",
    "odd_num ()"
   ]
  },
  {
   "cell_type": "markdown",
   "id": "baa8cec5-086d-4690-9c9e-42ca1c40426b",
   "metadata": {},
   "source": [
    "Q2. Why *args and **kwargs is used in some functions? Create a function each for *args and **kwargs to demonstrate their use."
   ]
  },
  {
   "cell_type": "markdown",
   "id": "77794393-1115-40f5-9a22-8580b8920d13",
   "metadata": {},
   "source": [
    "*args - If the number of arguments is unknown, add a * before the parameter name\n",
    "\n",
    "**kwargs - You can use **kwargs to let your functions take an arbitrary number of keyword arguments \"kwargs\" means \"keyword arguments\""
   ]
  },
  {
   "cell_type": "code",
   "execution_count": 7,
   "id": "2ec0d7d4-20c8-47c7-bf86-d07f27100c3b",
   "metadata": {},
   "outputs": [
    {
     "data": {
      "text/plain": [
       "30"
      ]
     },
     "execution_count": 7,
     "metadata": {},
     "output_type": "execute_result"
    }
   ],
   "source": [
    "# args example\n",
    "def test_add(*args):\n",
    "    rsult =0\n",
    "    for i in args:\n",
    "        rsult += i\n",
    "    return rsult\n",
    "test_add(3,5,8,5,9)\n"
   ]
  },
  {
   "cell_type": "code",
   "execution_count": 6,
   "id": "6fbf0b1f-5002-44a8-9036-091afb418109",
   "metadata": {},
   "outputs": [
    {
     "data": {
      "text/plain": [
       "{'a': 'shivangi', 'b': 'nitin', 'c': 'anmol', 'd': 'nisi'}"
      ]
     },
     "execution_count": 6,
     "metadata": {},
     "output_type": "execute_result"
    }
   ],
   "source": [
    "# kwargs example\n",
    "def id_name(**kwargs):\n",
    "    return kwargs\n",
    "id_name(a=\"shivangi\",b=\"nitin\",c=\"anmol\",d=\"nisi\")"
   ]
  },
  {
   "cell_type": "markdown",
   "id": "7c900369-be46-4fa1-860c-ab9a02d071cd",
   "metadata": {},
   "source": [
    "Q3. What is an iterator in python? Name the method used to initialise the iterator object and the method used for iteration. Use these methods to print the first five elements of the given list [2, 4, 6, 8, 10, 12, 14,\n",
    "16, 18, 20]."
   ]
  },
  {
   "cell_type": "markdown",
   "id": "29ae7fa9-c6aa-482b-94c8-2e7e617c3d1b",
   "metadata": {},
   "source": [
    "An iterator in Python is an object that is used to iterate over iterable objects like lists, tuples, dicts, and sets.\n",
    "\n",
    "The Python iterators object is initialized using the iter() method. It uses the next() method for iteration"
   ]
  },
  {
   "cell_type": "code",
   "execution_count": 1,
   "id": "c22db008-c99a-450c-a527-d4189a648a86",
   "metadata": {},
   "outputs": [
    {
     "name": "stdout",
     "output_type": "stream",
     "text": [
      "2\n",
      "4\n",
      "6\n",
      "8\n",
      "10\n"
     ]
    }
   ],
   "source": [
    "list_itr = [2, 4, 6, 8, 10, 12, 14, 16, 18, 20]\n",
    "my_list = iter(list_itr)\n",
    "for i in range (5):\n",
    "    print(next(my_list))"
   ]
  },
  {
   "cell_type": "markdown",
   "id": "73fa1021-9948-453f-974b-1721865c8734",
   "metadata": {},
   "source": [
    "Q4. What is a generator function in python? Why yield keyword is used? Give an example of a generator\n",
    "function."
   ]
  },
  {
   "cell_type": "markdown",
   "id": "b34da707-9050-40f4-9655-7ac675937ac0",
   "metadata": {},
   "source": [
    "A generator is a special type of function which does not return a single value, instead, it returns an iterator object with a sequence of values. In a generator function, a yield statement is used rather than a return statement.\n",
    "\n",
    "yield function is a type of function that is memory efficient and can be used like an iterator object. "
   ]
  },
  {
   "cell_type": "code",
   "execution_count": 2,
   "id": "217cdc55-490e-4238-8522-c3c63144991e",
   "metadata": {},
   "outputs": [
    {
     "name": "stdout",
     "output_type": "stream",
     "text": [
      "0\n",
      "1\n",
      "1\n",
      "2\n",
      "3\n",
      "5\n",
      "8\n"
     ]
    }
   ],
   "source": [
    "# example\n",
    "def fibo(n):\n",
    "    a,b=0,1\n",
    "    while a<n:\n",
    "        yield a\n",
    "        a,b=b,a+b\n",
    "    \n",
    "for i in fibo(10):\n",
    "    print(i)\n"
   ]
  },
  {
   "cell_type": "markdown",
   "id": "64d6542e-eebb-45ad-96b3-0c5903149adc",
   "metadata": {},
   "source": [
    "Q5. Create a generator function for prime numbers less than 1000. Use the next() method to print the\n",
    "first 20 prime numbers."
   ]
  },
  {
   "cell_type": "code",
   "execution_count": 3,
   "id": "4f5906b0-1c8d-4299-937b-693a9b714dee",
   "metadata": {},
   "outputs": [
    {
     "name": "stdout",
     "output_type": "stream",
     "text": [
      "1\n",
      "2\n",
      "3\n",
      "5\n",
      "7\n",
      "11\n",
      "13\n",
      "17\n",
      "19\n",
      "23\n",
      "29\n",
      "31\n",
      "37\n",
      "41\n",
      "43\n",
      "47\n",
      "53\n",
      "59\n",
      "61\n",
      "67\n"
     ]
    }
   ],
   "source": [
    "def prime_num():\n",
    "    for i in range(1,1000):\n",
    "        for j in range (2,i):\n",
    "            if (i%j)==0:\n",
    "                break\n",
    "        else :\n",
    "             yield i\n",
    "\n",
    "# for k in prime_num():\n",
    "#     print (k)\n",
    "prime_next_num = prime_num()\n",
    "for k in range (20):\n",
    "    print (next(prime_next_num))"
   ]
  },
  {
   "cell_type": "markdown",
   "id": "864d0e21-fdb7-47ce-aa15-053d1bc03e09",
   "metadata": {},
   "source": [
    "Q6. Write a python program to print the first 10 Fibonacci numbers using a while loop."
   ]
  },
  {
   "cell_type": "code",
   "execution_count": 4,
   "id": "4a5450ed-1cb2-4a2a-9a15-8bd9e6c6b30f",
   "metadata": {},
   "outputs": [
    {
     "name": "stdout",
     "output_type": "stream",
     "text": [
      "0\n",
      "1\n",
      "1\n",
      "2\n",
      "3\n",
      "5\n",
      "8\n",
      "13\n",
      "21\n",
      "34\n",
      "55\n",
      "89\n",
      "144\n"
     ]
    }
   ],
   "source": [
    "a =0\n",
    "b =1\n",
    "c = 0\n",
    "count =0\n",
    "print (a)\n",
    "print (b)\n",
    "while (count<=10):\n",
    "    c = a+b\n",
    "    a = b\n",
    "    b =c\n",
    "    print (c)\n",
    "    \n",
    "    count =count+1\n",
    "\n"
   ]
  },
  {
   "cell_type": "markdown",
   "id": "9b386aa4-254b-4bb8-9440-43076c9da712",
   "metadata": {},
   "source": [
    "Q7. Write a List Comprehension to iterate through the given string: ‘pwskills’.\n",
    "Expected output: ['p', 'w', 's', 'k', 'i', 'l', 'l', 's']"
   ]
  },
  {
   "cell_type": "code",
   "execution_count": 5,
   "id": "2e4a1f1a-df80-437f-b33c-c773d3a26d01",
   "metadata": {},
   "outputs": [
    {
     "name": "stdout",
     "output_type": "stream",
     "text": [
      "['p', 'w', 's', 'k', 'i', 'l', 'l', 's']\n"
     ]
    }
   ],
   "source": [
    "string_iter = [x for x in 'pwskills' ]\n",
    "print (string_iter)\n"
   ]
  },
  {
   "cell_type": "markdown",
   "id": "214b11b0-25bc-4e39-b3d6-ef8aacb61bdd",
   "metadata": {},
   "source": [
    "Q8. Write a python program to check whether a given number is Palindrome or not using a while loop."
   ]
  },
  {
   "cell_type": "code",
   "execution_count": 6,
   "id": "80042a4f-9253-4f2a-974d-89ec5a760256",
   "metadata": {},
   "outputs": [
    {
     "name": "stdin",
     "output_type": "stream",
     "text": [
      " 123321\n"
     ]
    },
    {
     "name": "stdout",
     "output_type": "stream",
     "text": [
      "123321 is a Palindrome\n"
     ]
    }
   ],
   "source": [
    "num = int(input())\n",
    "reverse = 0\n",
    "number = num\n",
    "while(num != 0):\n",
    "   reverse = reverse * 10 + num % 10\n",
    "   num = int(num / 10)\n",
    "if(number == reverse):\n",
    "   print(number,'is a Palindrome')\n",
    "else:\n",
    "   print(number,'is not a Palindrome')"
   ]
  },
  {
   "cell_type": "markdown",
   "id": "d263ffd4-9b48-40b4-8363-762e3c3ced72",
   "metadata": {},
   "source": [
    "Q9. Write a code to print odd numbers from 1 to 100 using list comprehension."
   ]
  },
  {
   "cell_type": "code",
   "execution_count": 7,
   "id": "2c5cc248-369f-4641-80b5-f4aa9a244b1c",
   "metadata": {},
   "outputs": [
    {
     "name": "stdout",
     "output_type": "stream",
     "text": [
      "[1, 3, 5, 7, 9, 11, 13, 15, 17, 19, 21, 23, 25, 27, 29, 31, 33, 35, 37, 39, 41, 43, 45, 47, 49, 51, 53, 55, 57, 59, 61, 63, 65, 67, 69, 71, 73, 75, 77, 79, 81, 83, 85, 87, 89, 91, 93, 95, 97, 99]\n"
     ]
    }
   ],
   "source": [
    "odd_num=[i for i in range (1,100) if i%2 !=0 ]\n",
    "print (odd_num)\n",
    "    "
   ]
  },
  {
   "cell_type": "code",
   "execution_count": null,
   "id": "9b8f4ce1-51e6-4df8-8d9f-3a5e99f92964",
   "metadata": {},
   "outputs": [],
   "source": []
  }
 ],
 "metadata": {
  "kernelspec": {
   "display_name": "Python 3 (ipykernel)",
   "language": "python",
   "name": "python3"
  },
  "language_info": {
   "codemirror_mode": {
    "name": "ipython",
    "version": 3
   },
   "file_extension": ".py",
   "mimetype": "text/x-python",
   "name": "python",
   "nbconvert_exporter": "python",
   "pygments_lexer": "ipython3",
   "version": "3.10.8"
  }
 },
 "nbformat": 4,
 "nbformat_minor": 5
}
